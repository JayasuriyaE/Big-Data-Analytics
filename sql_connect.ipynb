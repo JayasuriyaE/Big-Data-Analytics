{
 "cells": [
  {
   "cell_type": "code",
   "execution_count": 215,
   "metadata": {},
   "outputs": [
    {
     "name": "stdout",
     "output_type": "stream",
     "text": [
      "+--------+------+-------+----------+------------+-------------+---------------+-----------------+----------+----------------+--------------+-------------+-----------+\n",
      "| Loan_ID|Gender|Married|Dependents|   Education|Self_Employed|ApplicantIncome|CoapplicantIncome|LoanAmount|Loan_Amount_Term|Credit_History|Property_Area|Loan_Status|\n",
      "+--------+------+-------+----------+------------+-------------+---------------+-----------------+----------+----------------+--------------+-------------+-----------+\n",
      "|LP001002|  Male|     No|         0|    Graduate|           No|           5849|             0E-8|      null|             360|          true|        Urban|          Y|\n",
      "|LP001003|  Male|    Yes|         1|    Graduate|           No|           4583|    1508.00000000|       128|             360|          true|        Rural|          N|\n",
      "|LP001005|  Male|    Yes|         0|    Graduate|          Yes|           3000|             0E-8|        66|             360|          true|        Urban|          Y|\n",
      "|LP001006|  Male|    Yes|         0|Not Graduate|           No|           2583|    2358.00000000|       120|             360|          true|        Urban|          Y|\n",
      "|LP001008|  Male|     No|         0|    Graduate|           No|           6000|             0E-8|       141|             360|          true|        Urban|          Y|\n",
      "|LP001011|  Male|    Yes|         2|    Graduate|          Yes|           5417|    4196.00000000|       267|             360|          true|        Urban|          Y|\n",
      "|LP001013|  Male|    Yes|         0|Not Graduate|           No|           2333|    1516.00000000|        95|             360|          true|        Urban|          Y|\n",
      "|LP001014|  Male|    Yes|        3+|    Graduate|           No|           3036|    2504.00000000|       158|             360|         false|    Semiurban|          N|\n",
      "|LP001018|  Male|    Yes|         2|    Graduate|           No|           4006|    1526.00000000|       168|             360|          true|        Urban|          Y|\n",
      "|LP001020|  Male|    Yes|         1|    Graduate|           No|          12841|   10968.00000000|       349|             360|          true|    Semiurban|          N|\n",
      "|LP001024|  Male|    Yes|         2|    Graduate|           No|           3200|     700.00000000|        70|             360|          true|        Urban|          Y|\n",
      "|LP001027|  Male|    Yes|         2|    Graduate|         null|           2500|    1840.00000000|       109|             360|          true|        Urban|          Y|\n",
      "|LP001028|  Male|    Yes|         2|    Graduate|           No|           3073|    8106.00000000|       200|             360|          true|        Urban|          Y|\n",
      "|LP001029|  Male|     No|         0|    Graduate|           No|           1853|    2840.00000000|       114|             360|          true|        Rural|          N|\n",
      "|LP001030|  Male|    Yes|         2|    Graduate|           No|           1299|    1086.00000000|        17|             120|          true|        Urban|          Y|\n",
      "|LP001032|  Male|     No|         0|    Graduate|           No|           4950|             0E-8|       125|             360|          true|        Urban|          Y|\n",
      "|LP001034|  Male|     No|         1|Not Graduate|           No|           3596|             0E-8|       100|             240|          null|        Urban|          Y|\n",
      "|LP001036|Female|     No|         0|    Graduate|           No|           3510|             0E-8|        76|             360|         false|        Urban|          N|\n",
      "|LP001038|  Male|    Yes|         0|Not Graduate|           No|           4887|             0E-8|       133|             360|          true|        Rural|          N|\n",
      "|LP001041|  Male|    Yes|         0|    Graduate|         null|           2600|    3500.00000000|       115|            null|          true|        Urban|          Y|\n",
      "+--------+------+-------+----------+------------+-------------+---------------+-----------------+----------+----------------+--------------+-------------+-----------+\n",
      "only showing top 20 rows\n",
      "\n"
     ]
    }
   ],
   "source": [
    "import findspark\n",
    "findspark.init()\n",
    "\n",
    "import pyspark # only run after findspark.init()\n",
    "from pyspark.sql import SparkSession\n",
    "spark = SparkSession.builder.getOrCreate()\n",
    "\n",
    "dataframe_mysql = spark.read.format(\"jdbc\").options(\n",
    "    url=\"jdbc:mysql://localhost:3306/BDA\",\n",
    "    driver = \"com.mysql.jdbc.Driver\",\n",
    "    dbtable = \"mytable\",\n",
    "    user=\"root\",\n",
    "    password=\"jaya3502\").load()\n",
    "dataframe_mysql.show()"
   ]
  },
  {
   "cell_type": "code",
   "execution_count": 216,
   "metadata": {},
   "outputs": [
    {
     "name": "stdout",
     "output_type": "stream",
     "text": [
      "(614, 13)\n"
     ]
    }
   ],
   "source": [
    "spark.conf.set(\"spark.sql.execution.arrow.enabled\", \"true\")\n",
    "spark.conf.set(\"spark.sql.crossJoin.enabled\", \"true\")\n",
    "print(dataframe_mysql.toPandas().shape)"
   ]
  },
  {
   "cell_type": "code",
   "execution_count": 217,
   "metadata": {},
   "outputs": [
    {
     "name": "stdout",
     "output_type": "stream",
     "text": [
      "root\n",
      " |-- Loan_ID: string (nullable = true)\n",
      " |-- Gender: string (nullable = true)\n",
      " |-- Married: string (nullable = true)\n",
      " |-- Dependents: string (nullable = true)\n",
      " |-- Education: string (nullable = true)\n",
      " |-- Self_Employed: string (nullable = true)\n",
      " |-- ApplicantIncome: integer (nullable = true)\n",
      " |-- CoapplicantIncome: decimal(13,8) (nullable = true)\n",
      " |-- LoanAmount: integer (nullable = true)\n",
      " |-- Loan_Amount_Term: integer (nullable = true)\n",
      " |-- Credit_History: boolean (nullable = true)\n",
      " |-- Property_Area: string (nullable = true)\n",
      " |-- Loan_Status: string (nullable = true)\n",
      "\n"
     ]
    }
   ],
   "source": [
    "dataframe_mysql.printSchema()"
   ]
  },
  {
   "cell_type": "code",
   "execution_count": 218,
   "metadata": {},
   "outputs": [
    {
     "data": {
      "text/html": [
       "<div>\n",
       "<style scoped>\n",
       "    .dataframe tbody tr th:only-of-type {\n",
       "        vertical-align: middle;\n",
       "    }\n",
       "\n",
       "    .dataframe tbody tr th {\n",
       "        vertical-align: top;\n",
       "    }\n",
       "\n",
       "    .dataframe thead th {\n",
       "        text-align: right;\n",
       "    }\n",
       "</style>\n",
       "<table border=\"1\" class=\"dataframe\">\n",
       "  <thead>\n",
       "    <tr style=\"text-align: right;\">\n",
       "      <th></th>\n",
       "      <th>0</th>\n",
       "      <th>1</th>\n",
       "      <th>2</th>\n",
       "      <th>3</th>\n",
       "      <th>4</th>\n",
       "    </tr>\n",
       "  </thead>\n",
       "  <tbody>\n",
       "    <tr>\n",
       "      <th>summary</th>\n",
       "      <td>count</td>\n",
       "      <td>mean</td>\n",
       "      <td>stddev</td>\n",
       "      <td>min</td>\n",
       "      <td>max</td>\n",
       "    </tr>\n",
       "    <tr>\n",
       "      <th>Loan_ID</th>\n",
       "      <td>614</td>\n",
       "      <td>None</td>\n",
       "      <td>None</td>\n",
       "      <td>LP001002</td>\n",
       "      <td>LP002990</td>\n",
       "    </tr>\n",
       "    <tr>\n",
       "      <th>Gender</th>\n",
       "      <td>601</td>\n",
       "      <td>None</td>\n",
       "      <td>None</td>\n",
       "      <td>Female</td>\n",
       "      <td>Male</td>\n",
       "    </tr>\n",
       "    <tr>\n",
       "      <th>Married</th>\n",
       "      <td>611</td>\n",
       "      <td>None</td>\n",
       "      <td>None</td>\n",
       "      <td>No</td>\n",
       "      <td>Yes</td>\n",
       "    </tr>\n",
       "    <tr>\n",
       "      <th>Dependents</th>\n",
       "      <td>599</td>\n",
       "      <td>0.5547445255474452</td>\n",
       "      <td>0.7853289861674311</td>\n",
       "      <td>0</td>\n",
       "      <td>3+</td>\n",
       "    </tr>\n",
       "    <tr>\n",
       "      <th>Education</th>\n",
       "      <td>614</td>\n",
       "      <td>None</td>\n",
       "      <td>None</td>\n",
       "      <td>Graduate</td>\n",
       "      <td>Not Graduate</td>\n",
       "    </tr>\n",
       "    <tr>\n",
       "      <th>Self_Employed</th>\n",
       "      <td>582</td>\n",
       "      <td>None</td>\n",
       "      <td>None</td>\n",
       "      <td>No</td>\n",
       "      <td>Yes</td>\n",
       "    </tr>\n",
       "    <tr>\n",
       "      <th>ApplicantIncome</th>\n",
       "      <td>614</td>\n",
       "      <td>5403.459283387622</td>\n",
       "      <td>6109.041673387181</td>\n",
       "      <td>150</td>\n",
       "      <td>81000</td>\n",
       "    </tr>\n",
       "    <tr>\n",
       "      <th>CoapplicantIncome</th>\n",
       "      <td>614</td>\n",
       "      <td>1621.245798027101</td>\n",
       "      <td>2926.2483692241894</td>\n",
       "      <td>0E-8</td>\n",
       "      <td>41667.00000000</td>\n",
       "    </tr>\n",
       "    <tr>\n",
       "      <th>LoanAmount</th>\n",
       "      <td>592</td>\n",
       "      <td>146.41216216216216</td>\n",
       "      <td>85.58732523570545</td>\n",
       "      <td>9</td>\n",
       "      <td>700</td>\n",
       "    </tr>\n",
       "    <tr>\n",
       "      <th>Loan_Amount_Term</th>\n",
       "      <td>600</td>\n",
       "      <td>342.0</td>\n",
       "      <td>65.12040985461255</td>\n",
       "      <td>12</td>\n",
       "      <td>480</td>\n",
       "    </tr>\n",
       "    <tr>\n",
       "      <th>Property_Area</th>\n",
       "      <td>614</td>\n",
       "      <td>None</td>\n",
       "      <td>None</td>\n",
       "      <td>Rural</td>\n",
       "      <td>Urban</td>\n",
       "    </tr>\n",
       "    <tr>\n",
       "      <th>Loan_Status</th>\n",
       "      <td>614</td>\n",
       "      <td>None</td>\n",
       "      <td>None</td>\n",
       "      <td>N</td>\n",
       "      <td>Y</td>\n",
       "    </tr>\n",
       "  </tbody>\n",
       "</table>\n",
       "</div>"
      ],
      "text/plain": [
       "                       0                   1                   2         3  \\\n",
       "summary            count                mean              stddev       min   \n",
       "Loan_ID              614                None                None  LP001002   \n",
       "Gender               601                None                None    Female   \n",
       "Married              611                None                None        No   \n",
       "Dependents           599  0.5547445255474452  0.7853289861674311         0   \n",
       "Education            614                None                None  Graduate   \n",
       "Self_Employed        582                None                None        No   \n",
       "ApplicantIncome      614   5403.459283387622   6109.041673387181       150   \n",
       "CoapplicantIncome    614   1621.245798027101  2926.2483692241894      0E-8   \n",
       "LoanAmount           592  146.41216216216216   85.58732523570545         9   \n",
       "Loan_Amount_Term     600               342.0   65.12040985461255        12   \n",
       "Property_Area        614                None                None     Rural   \n",
       "Loan_Status          614                None                None         N   \n",
       "\n",
       "                                4  \n",
       "summary                       max  \n",
       "Loan_ID                  LP002990  \n",
       "Gender                       Male  \n",
       "Married                       Yes  \n",
       "Dependents                     3+  \n",
       "Education            Not Graduate  \n",
       "Self_Employed                 Yes  \n",
       "ApplicantIncome             81000  \n",
       "CoapplicantIncome  41667.00000000  \n",
       "LoanAmount                    700  \n",
       "Loan_Amount_Term              480  \n",
       "Property_Area               Urban  \n",
       "Loan_Status                     Y  "
      ]
     },
     "execution_count": 218,
     "metadata": {},
     "output_type": "execute_result"
    }
   ],
   "source": [
    "dataframe_mysql.describe().toPandas().transpose()"
   ]
  },
  {
   "cell_type": "code",
   "execution_count": 219,
   "metadata": {},
   "outputs": [
    {
     "name": "stdout",
     "output_type": "stream",
     "text": [
      "+--------+------+-------+----------+---------+-------------+---------------+-----------------+----------+----------------+--------------+-------------+-----------+\n",
      "| Loan_ID|Gender|Married|Dependents|Education|Self_Employed|ApplicantIncome|CoapplicantIncome|LoanAmount|Loan_Amount_Term|Credit_History|Property_Area|Loan_Status|\n",
      "+--------+------+-------+----------+---------+-------------+---------------+-----------------+----------+----------------+--------------+-------------+-----------+\n",
      "|LP001002|     1|      0|         0|        1|            0|           5849|             0E-8|      null|             360|             1|            1|          1|\n",
      "|LP001003|     1|      1|         1|        1|            0|           4583|    1508.00000000|       128|             360|             1|            0|          0|\n",
      "|LP001005|     1|      1|         0|        1|            1|           3000|             0E-8|        66|             360|             1|            1|          1|\n",
      "|LP001006|     1|      1|         0|        0|            0|           2583|    2358.00000000|       120|             360|             1|            1|          1|\n",
      "|LP001008|     1|      0|         0|        1|            0|           6000|             0E-8|       141|             360|             1|            1|          1|\n",
      "+--------+------+-------+----------+---------+-------------+---------------+-----------------+----------+----------------+--------------+-------------+-----------+\n",
      "only showing top 5 rows\n",
      "\n"
     ]
    }
   ],
   "source": [
    "\n",
    "from pyspark.sql.functions import col, when\n",
    "dataframe_mysql = dataframe_mysql.withColumn(dataframe_mysql.columns[1], when(col(dataframe_mysql.columns[1]) == \"Male\", 1).otherwise(0))\n",
    "dataframe_mysql = dataframe_mysql.withColumn(dataframe_mysql.columns[2], when(col(dataframe_mysql.columns[2]) == \"Yes\", 1).otherwise(0))\n",
    "dataframe_mysql = dataframe_mysql.withColumn(dataframe_mysql.columns[4], when(col(dataframe_mysql.columns[4]) == \"Graduate\", 1).otherwise(0))\n",
    "dataframe_mysql = dataframe_mysql.withColumn(dataframe_mysql.columns[5], when(col(dataframe_mysql.columns[5]) == \"Yes\", 1).otherwise(0))\n",
    "dataframe_mysql = dataframe_mysql.withColumn(dataframe_mysql.columns[10], when(col(dataframe_mysql.columns[10]) == \"true\", 1).otherwise(0))\n",
    "dataframe_mysql = dataframe_mysql.withColumn(dataframe_mysql.columns[11], when(col(dataframe_mysql.columns[11]) == \"Urban\", 1).otherwise(0))\n",
    "dataframe_mysql = dataframe_mysql.withColumn(dataframe_mysql.columns[12], when(col(dataframe_mysql.columns[12]) == \"Y\", 1).otherwise(0))\n",
    "dataframe_mysql=dataframe_mysql.na.replace('0E-8', '0')\n",
    "dataframe_mysql.show(5)"
   ]
  },
  {
   "cell_type": "code",
   "execution_count": 220,
   "metadata": {},
   "outputs": [
    {
     "name": "stdout",
     "output_type": "stream",
     "text": [
      "+--------+------+-------+----------+---------+-------------+---------------+-----------------+----------+----------------+--------------+-------------+-----------+\n",
      "| Loan_ID|Gender|Married|Dependents|Education|Self_Employed|ApplicantIncome|CoapplicantIncome|LoanAmount|Loan_Amount_Term|Credit_History|Property_Area|Loan_Status|\n",
      "+--------+------+-------+----------+---------+-------------+---------------+-----------------+----------+----------------+--------------+-------------+-----------+\n",
      "|LP001003|     1|      1|         1|        1|            0|           4583|    1508.00000000|       128|             360|             1|            0|          0|\n",
      "|LP001005|     1|      1|         0|        1|            1|           3000|             0E-8|        66|             360|             1|            1|          1|\n",
      "|LP001006|     1|      1|         0|        0|            0|           2583|    2358.00000000|       120|             360|             1|            1|          1|\n",
      "|LP001008|     1|      0|         0|        1|            0|           6000|             0E-8|       141|             360|             1|            1|          1|\n",
      "|LP001011|     1|      1|         2|        1|            1|           5417|    4196.00000000|       267|             360|             1|            1|          1|\n",
      "|LP001013|     1|      1|         0|        0|            0|           2333|    1516.00000000|        95|             360|             1|            1|          1|\n",
      "|LP001014|     1|      1|         3|        1|            0|           3036|    2504.00000000|       158|             360|             0|            0|          0|\n",
      "|LP001018|     1|      1|         2|        1|            0|           4006|    1526.00000000|       168|             360|             1|            1|          1|\n",
      "|LP001020|     1|      1|         1|        1|            0|          12841|   10968.00000000|       349|             360|             1|            0|          0|\n",
      "|LP001024|     1|      1|         2|        1|            0|           3200|     700.00000000|        70|             360|             1|            1|          1|\n",
      "|LP001027|     1|      1|         2|        1|            0|           2500|    1840.00000000|       109|             360|             1|            1|          1|\n",
      "|LP001028|     1|      1|         2|        1|            0|           3073|    8106.00000000|       200|             360|             1|            1|          1|\n",
      "|LP001029|     1|      0|         0|        1|            0|           1853|    2840.00000000|       114|             360|             1|            0|          0|\n",
      "|LP001030|     1|      1|         2|        1|            0|           1299|    1086.00000000|        17|             120|             1|            1|          1|\n",
      "|LP001032|     1|      0|         0|        1|            0|           4950|             0E-8|       125|             360|             1|            1|          1|\n",
      "|LP001034|     1|      0|         1|        0|            0|           3596|             0E-8|       100|             240|             0|            1|          1|\n",
      "|LP001036|     0|      0|         0|        1|            0|           3510|             0E-8|        76|             360|             0|            1|          0|\n",
      "|LP001038|     1|      1|         0|        0|            0|           4887|             0E-8|       133|             360|             1|            0|          0|\n",
      "|LP001043|     1|      1|         0|        0|            0|           7660|             0E-8|       104|             360|             0|            1|          0|\n",
      "|LP001046|     1|      1|         1|        1|            0|           5955|    5625.00000000|       315|             360|             1|            1|          1|\n",
      "+--------+------+-------+----------+---------+-------------+---------------+-----------------+----------+----------------+--------------+-------------+-----------+\n",
      "only showing top 20 rows\n",
      "\n"
     ]
    }
   ],
   "source": [
    "dataframe_mysql = dataframe_mysql.withColumn(\"Dependents\", \\\n",
    "              when(dataframe_mysql[\"Dependents\"] == \"3+\", 3).otherwise(dataframe_mysql[\"Dependents\"]))\n",
    "dataframe_mysql=dataframe_mysql.na.drop()\n",
    "dataframe_mysql.show()"
   ]
  },
  {
   "cell_type": "code",
   "execution_count": 221,
   "metadata": {},
   "outputs": [
    {
     "name": "stdout",
     "output_type": "stream",
     "text": [
      "root\n",
      " |-- Gender: integer (nullable = false)\n",
      " |-- Married: integer (nullable = false)\n",
      " |-- Dependents: string (nullable = true)\n",
      " |-- Education: integer (nullable = false)\n",
      " |-- Self_Employed: integer (nullable = false)\n",
      " |-- ApplicantIncome: integer (nullable = true)\n",
      " |-- CoapplicantIncome: decimal(13,8) (nullable = true)\n",
      " |-- LoanAmount: integer (nullable = true)\n",
      " |-- Loan_Amount_Term: integer (nullable = true)\n",
      " |-- Credit_History: integer (nullable = false)\n",
      " |-- Property_Area: integer (nullable = false)\n",
      " |-- Loan_Status: integer (nullable = false)\n",
      "\n"
     ]
    }
   ],
   "source": [
    "dataframe_mysql = dataframe_mysql.drop(col(\"Loan_ID\")) \n",
    "dataframe_mysql.printSchema()"
   ]
  },
  {
   "cell_type": "code",
   "execution_count": 222,
   "metadata": {},
   "outputs": [
    {
     "name": "stdout",
     "output_type": "stream",
     "text": [
      "root\n",
      " |-- Gender: integer (nullable = false)\n",
      " |-- Married: integer (nullable = false)\n",
      " |-- Dependents: string (nullable = true)\n",
      " |-- Education: integer (nullable = false)\n",
      " |-- Self_Employed: integer (nullable = false)\n",
      " |-- ApplicantIncome: integer (nullable = true)\n",
      " |-- CoapplicantIncome: decimal(13,8) (nullable = true)\n",
      " |-- LoanAmount: integer (nullable = true)\n",
      " |-- Loan_Amount_Term: integer (nullable = true)\n",
      " |-- Credit_History: integer (nullable = false)\n",
      " |-- Property_Area: integer (nullable = false)\n",
      " |-- Loan_Status: integer (nullable = false)\n",
      "\n"
     ]
    }
   ],
   "source": [
    "dataframe_mysql.printSchema()"
   ]
  },
  {
   "cell_type": "code",
   "execution_count": 223,
   "metadata": {},
   "outputs": [
    {
     "name": "stdout",
     "output_type": "stream",
     "text": [
      "root\n",
      " |-- Gender: integer (nullable = false)\n",
      " |-- Married: integer (nullable = false)\n",
      " |-- Dependents: integer (nullable = true)\n",
      " |-- Education: integer (nullable = false)\n",
      " |-- Self_Employed: integer (nullable = false)\n",
      " |-- ApplicantIncome: integer (nullable = true)\n",
      " |-- CoapplicantIncome: decimal(13,8) (nullable = true)\n",
      " |-- LoanAmount: integer (nullable = true)\n",
      " |-- Loan_Amount_Term: integer (nullable = true)\n",
      " |-- Credit_History: integer (nullable = false)\n",
      " |-- Property_Area: integer (nullable = false)\n",
      " |-- Loan_Status: integer (nullable = false)\n",
      "\n"
     ]
    }
   ],
   "source": [
    "from pyspark.sql.types import IntegerType\n",
    "dataframe_mysql = dataframe_mysql.withColumn(\"Dependents\",dataframe_mysql[\"Dependents\"].cast(IntegerType()))\n",
    "dataframe_mysql.printSchema()"
   ]
  },
  {
   "cell_type": "code",
   "execution_count": 224,
   "metadata": {},
   "outputs": [
    {
     "name": "stdout",
     "output_type": "stream",
     "text": [
      "root\n",
      " |-- Gender: integer (nullable = false)\n",
      " |-- Married: integer (nullable = false)\n",
      " |-- Dependents: integer (nullable = true)\n",
      " |-- Education: integer (nullable = false)\n",
      " |-- Self_Employed: integer (nullable = false)\n",
      " |-- ApplicantIncome: integer (nullable = true)\n",
      " |-- CoapplicantIncome: decimal(13,8) (nullable = true)\n",
      " |-- LoanAmount: integer (nullable = true)\n",
      " |-- Loan_Amount_Term: integer (nullable = true)\n",
      " |-- Credit_History: integer (nullable = false)\n",
      " |-- Property_Area: integer (nullable = false)\n",
      " |-- Loan_Status: integer (nullable = false)\n",
      "\n"
     ]
    }
   ],
   "source": [
    "dataframe_mysql.printSchema()"
   ]
  },
  {
   "cell_type": "code",
   "execution_count": 225,
   "metadata": {},
   "outputs": [
    {
     "data": {
      "image/png": "[encoded data removed]",
      "text/plain": [
       "<Figure size 432x288 with 1 Axes>"
      ]
     },
     "metadata": {},
     "output_type": "display_data"
    }
   ],
   "source": [
    "# dataframe_mysql = dataframe_mysql.selectExpr(\"cast(Dependents as int) Dependents\")\n",
    "# dataframe_mysql.printSchema()\n",
    "labels = ['Yes', 'No']\n",
    "sizes = [dataframe_mysql.filter(dataframe_mysql['Loan_Status'] == 0).select('Loan_Status').count(), dataframe_mysql.filter(dataframe_mysql['Loan_Status'] == 1).select('Loan_Status').count()]\n",
    "colors = ['#FFD700','#EEE8AA']\n",
    "\n",
    "plt.pie(sizes, colors = colors, labels=labels, autopct='%.1f%%', startangle=90, pctdistance=0.85)\n",
    "fig = plt.gcf()\n",
    "plt.tight_layout()\n",
    "plt.show()"
   ]
  },
  {
   "cell_type": "code",
   "execution_count": 226,
   "metadata": {},
   "outputs": [],
   "source": [
    "features = dataframe_mysql.drop('Loan_Status')"
   ]
  },
  {
   "cell_type": "code",
   "execution_count": 227,
   "metadata": {},
   "outputs": [],
   "source": [
    "#let's assemble our features together using vectorAssembler\n",
    "from pyspark.ml.feature import VectorAssembler\n",
    "assembler = VectorAssembler(\n",
    "    inputCols=features.columns,\n",
    "    outputCol=\"features\")"
   ]
  },
  {
   "cell_type": "code",
   "execution_count": 228,
   "metadata": {},
   "outputs": [],
   "source": [
    "output = assembler.transform(dataframe_mysql)"
   ]
  },
  {
   "cell_type": "code",
   "execution_count": 229,
   "metadata": {},
   "outputs": [],
   "source": [
    "output= output.select(\"features\", \"Loan_Status\")"
   ]
  },
  {
   "cell_type": "code",
   "execution_count": 230,
   "metadata": {},
   "outputs": [],
   "source": [
    "train_df,test_df = output.randomSplit([0.7, 0.3])"
   ]
  },
  {
   "cell_type": "code",
   "execution_count": 231,
   "metadata": {},
   "outputs": [
    {
     "name": "stdout",
     "output_type": "stream",
     "text": [
      "Training Dataset Count: 393\n",
      "Test Dataset Count: 173\n"
     ]
    }
   ],
   "source": [
    "print(\"Training Dataset Count: \" + str(train_df.count()))\n",
    "print(\"Test Dataset Count: \" + str(test_df.count()))"
   ]
  },
  {
   "cell_type": "code",
   "execution_count": 232,
   "metadata": {},
   "outputs": [],
   "source": [
    "# train_df.show()\n",
    "# test_df.show()"
   ]
  },
  {
   "cell_type": "markdown",
   "metadata": {},
   "source": [
    "Logistic Regression Model"
   ]
  },
  {
   "cell_type": "code",
   "execution_count": 233,
   "metadata": {},
   "outputs": [],
   "source": [
    "from pyspark.ml.classification import LogisticRegression\n",
    "lr = LogisticRegression(featuresCol = 'features', labelCol = 'Loan_Status', maxIter=10)\n",
    "lrModel = lr.fit(train_df)"
   ]
  },
  {
   "cell_type": "code",
   "execution_count": 234,
   "metadata": {},
   "outputs": [
    {
     "data": {
      "image/png": "[encoded data removed]",
      "text/plain": [
       "<Figure size 432x288 with 1 Axes>"
      ]
     },
     "metadata": {
      "needs_background": "light"
     },
     "output_type": "display_data"
    }
   ],
   "source": [
    "import matplotlib.pyplot as plt\n",
    "import numpy as np\n",
    "beta = np.sort(lrModel.coefficients)\n",
    "plt.plot(beta)\n",
    "plt.ylabel('Beta Coefficients')\n",
    "plt.show()"
   ]
  },
  {
   "cell_type": "code",
   "execution_count": 235,
   "metadata": {},
   "outputs": [
    {
     "name": "stderr",
     "output_type": "stream",
     "text": [
      "C:\\spark-3.2.1-bin-hadoop3.2\\python\\pyspark\\sql\\context.py:127: FutureWarning: Deprecated in 3.0.0. Use SparkSession.builder.getOrCreate() instead.\n",
      "  FutureWarning\n"
     ]
    },
    {
     "data": {
      "image/png": "[encoded data removed]",
      "text/plain": [
       "<Figure size 432x288 with 1 Axes>"
      ]
     },
     "metadata": {
      "needs_background": "light"
     },
     "output_type": "display_data"
    },
    {
     "name": "stdout",
     "output_type": "stream",
     "text": [
      "Training set areaUnderROC: 0.7331587057010783\n"
     ]
    }
   ],
   "source": [
    "trainingSummary = lrModel.summary\n",
    "roc = trainingSummary.roc.toPandas()\n",
    "plt.plot(roc['FPR'],roc['TPR'])\n",
    "plt.ylabel('False Positive Rate')\n",
    "plt.xlabel('True Positive Rate')\n",
    "plt.title('ROC Curve')\n",
    "plt.show()\n",
    "print('Training set areaUnderROC: ' + str(trainingSummary.areaUnderROC))"
   ]
  },
  {
   "cell_type": "code",
   "execution_count": 236,
   "metadata": {},
   "outputs": [
    {
     "data": {
      "image/png": "[encoded data removed]",
      "text/plain": [
       "<Figure size 432x288 with 1 Axes>"
      ]
     },
     "metadata": {
      "needs_background": "light"
     },
     "output_type": "display_data"
    }
   ],
   "source": [
    "pr = trainingSummary.pr.toPandas()\n",
    "plt.plot(pr['recall'],pr['precision'])\n",
    "plt.ylabel('Precision')\n",
    "plt.xlabel('Recall')\n",
    "plt.show()"
   ]
  },
  {
   "cell_type": "code",
   "execution_count": 237,
   "metadata": {},
   "outputs": [
    {
     "name": "stdout",
     "output_type": "stream",
     "text": [
      "+--------------------+-----------+--------------------+--------------------+----------+\n",
      "|            features|Loan_status|       rawPrediction|         probability|prediction|\n",
      "+--------------------+-----------+--------------------+--------------------+----------+\n",
      "|(11,[0,1,2,5,7,8]...|          0|[0.33537238918232...|[0.58306598482645...|       0.0|\n",
      "|(11,[0,1,5,6,7,8]...|          0|[0.94925665286205...|[0.72096566033998...|       0.0|\n",
      "|(11,[0,1,5,7,8],[...|          1|[0.63644603939547...|[0.65394964171098...|       0.0|\n",
      "|(11,[0,1,5,7,8,9]...|          0|[-1.2978104025503...|[0.21453375325396...|       1.0|\n",
      "|(11,[0,1,5,7,8,10...|          0|[0.83358511634954...|[0.69711244975221...|       0.0|\n",
      "|(11,[0,2,3,5,7,8]...|          0|[0.66515007035290...|[0.66041632965737...|       0.0|\n",
      "|(11,[0,2,3,5,7,8]...|          0|[0.43866777401243...|[0.60794154221884...|       0.0|\n",
      "|(11,[0,3,5,6,7,8]...|          0|[0.87373594276126...|[0.70552247490165...|       0.0|\n",
      "|(11,[0,3,5,7,8],[...|          1|[0.70883282834702...|[0.67014320626540...|       0.0|\n",
      "|(11,[0,3,5,7,8],[...|          0|[0.68452914876690...|[0.66474880566260...|       0.0|\n",
      "|(11,[0,3,5,7,8],[...|          0|[0.81358193905218...|[0.69287226810934...|       0.0|\n",
      "|(11,[0,3,5,7,8,9]...|          1|[-1.3349818978240...|[0.20833649488969...|       1.0|\n",
      "|(11,[0,3,5,7,8,9]...|          0|[-1.4386379036031...|[0.19175636561575...|       1.0|\n",
      "|(11,[0,3,5,7,8,9]...|          1|[-1.2763485807982...|[0.21817241691144...|       1.0|\n",
      "|(11,[0,3,5,7,8,9]...|          1|[-1.2811838217947...|[0.21734877829761...|       1.0|\n",
      "|(11,[0,3,5,7,8,9]...|          0|[-1.2313664046425...|[0.22594236244210...|       1.0|\n",
      "|(11,[0,5,6,7,8],[...|          1|[1.15989956114479...|[0.76131446410038...|       0.0|\n",
      "|(11,[0,5,7,8,9],[...|          1|[-0.7035580917397...|[0.33102382572205...|       1.0|\n",
      "|(11,[0,5,7,8,9],[...|          0|[-0.9123420146265...|[0.28652082778762...|       1.0|\n",
      "|(11,[1,2,5,6,7,8]...|          0|[0.49757649903198...|[0.62188963068078...|       0.0|\n",
      "+--------------------+-----------+--------------------+--------------------+----------+\n",
      "only showing top 20 rows\n",
      "\n"
     ]
    }
   ],
   "source": [
    "predictions = lrModel.transform(test_df)\n",
    "predictions.select(\"features\",\"Loan_status\",\"rawPrediction\",\"probability\",\"prediction\").show()"
   ]
  },
  {
   "cell_type": "code",
   "execution_count": 238,
   "metadata": {},
   "outputs": [
    {
     "name": "stdout",
     "output_type": "stream",
     "text": [
      "Test Area Under ROC 0.7267759562841528\n"
     ]
    }
   ],
   "source": [
    "from pyspark.ml.evaluation import BinaryClassificationEvaluator\n",
    "evaluator = BinaryClassificationEvaluator(labelCol=\"Loan_Status\")\n",
    "print('Test Area Under ROC', evaluator.evaluate(predictions))"
   ]
  },
  {
   "cell_type": "code",
   "execution_count": 239,
   "metadata": {},
   "outputs": [
    {
     "name": "stderr",
     "output_type": "stream",
     "text": [
      "C:\\spark-3.2.1-bin-hadoop3.2\\python\\pyspark\\sql\\pandas\\conversion.py:87: UserWarning: toPandas attempted Arrow optimization because 'spark.sql.execution.arrow.pyspark.enabled' is set to true; however, failed by the reason below:\n",
      "  Unsupported type in conversion to Arrow: VectorUDT\n",
      "Attempting non-optimization as 'spark.sql.execution.arrow.pyspark.fallback.enabled' is set to true.\n",
      "  warnings.warn(msg)\n"
     ]
    }
   ],
   "source": [
    "lrpredictB = predictions[predictions.prediction==0].toPandas()\n",
    "lrpredictM = predictions[predictions.prediction==1].toPandas()"
   ]
  },
  {
   "cell_type": "code",
   "execution_count": 240,
   "metadata": {},
   "outputs": [
    {
     "name": "stdout",
     "output_type": "stream",
     "text": [
      "-- Logistic Regression --\n",
      "------------------------------------------------------------------------\n",
      "Classification Report\n",
      "               precision    recall  f1-score   support\n",
      "\n",
      "           0       0.61      0.53      0.57        51\n",
      "           1       0.81      0.86      0.84       122\n",
      "\n",
      "    accuracy                           0.76       173\n",
      "   macro avg       0.71      0.70      0.70       173\n",
      "weighted avg       0.75      0.76      0.76       173\n",
      "\n",
      "------------------------------------------------------------------------\n",
      "Confusion matrix\n",
      " [[ 27  24]\n",
      " [ 17 105]] \n",
      "\n",
      "\n"
     ]
    }
   ],
   "source": [
    "import pandas as pd\n",
    "from sklearn.metrics import classification_report,confusion_matrix\n",
    "result = pd.concat([lrpredictB,lrpredictM])\n",
    "true_labels=(test_df.select(\"Loan_Status\")).toPandas()\n",
    "predicted_labels=predictions.select(\"prediction\").toPandas()\n",
    "\n",
    "print(\"-- Logistic Regression --\")\n",
    "print(\"------------------------------------------------------------------------\")\n",
    "print(\"Classification Report\\n\",classification_report(true_labels, predicted_labels))\n",
    "print(\"------------------------------------------------------------------------\")\n",
    "print(\"Confusion matrix\\n\",confusion_matrix(true_labels,predicted_labels),\"\\n\\n\")\n",
    "LR=confusion_matrix(true_labels,predicted_labels)"
   ]
  },
  {
   "cell_type": "code",
   "execution_count": 241,
   "metadata": {},
   "outputs": [],
   "source": [
    "def accuracy_m(model): \n",
    "    predictions = model.transform(test_df)\n",
    "    cm = predictions.select(\"Loan_Status\", \"prediction\")\n",
    "    acc = cm.filter(cm.Loan_Status == cm.prediction).count() / cm.count()\n",
    "    x = (\"Model accuracy: %.3f%%\" % (acc * 100)) \n",
    "    return x\n",
    "\n"
   ]
  },
  {
   "cell_type": "code",
   "execution_count": 242,
   "metadata": {},
   "outputs": [
    {
     "name": "stdout",
     "output_type": "stream",
     "text": [
      "Model accuracy: 76.301%\n"
     ]
    }
   ],
   "source": [
    "x = accuracy_m(model = lrModel)\n",
    "print(x)"
   ]
  },
  {
   "cell_type": "markdown",
   "metadata": {},
   "source": [
    "Decision Tree Classifier\n"
   ]
  },
  {
   "cell_type": "code",
   "execution_count": 243,
   "metadata": {},
   "outputs": [],
   "source": [
    "from pyspark.ml.classification import DecisionTreeClassifier\n",
    "dt = DecisionTreeClassifier(featuresCol = 'features', labelCol = 'Loan_Status', maxDepth = 3)\n",
    "dtModel = dt.fit(train_df)"
   ]
  },
  {
   "cell_type": "code",
   "execution_count": 244,
   "metadata": {},
   "outputs": [
    {
     "name": "stdout",
     "output_type": "stream",
     "text": [
      "+--------------------+-----------+-------------+--------------------+----------+\n",
      "|            features|Loan_Status|rawPrediction|         probability|prediction|\n",
      "+--------------------+-----------+-------------+--------------------+----------+\n",
      "|(11,[0,1,2,5,7,8]...|          0|  [43.0,16.0]|[0.72881355932203...|       0.0|\n",
      "|(11,[0,1,5,6,7,8]...|          0|  [43.0,16.0]|[0.72881355932203...|       0.0|\n",
      "|(11,[0,1,5,7,8],[...|          1|  [43.0,16.0]|[0.72881355932203...|       0.0|\n",
      "|(11,[0,1,5,7,8,9]...|          0| [65.0,248.0]|[0.20766773162939...|       1.0|\n",
      "|(11,[0,1,5,7,8,10...|          0|  [43.0,16.0]|[0.72881355932203...|       0.0|\n",
      "|(11,[0,2,3,5,7,8]...|          0|  [43.0,16.0]|[0.72881355932203...|       0.0|\n",
      "|(11,[0,2,3,5,7,8]...|          0|    [8.0,9.0]|[0.47058823529411...|       1.0|\n",
      "|(11,[0,3,5,6,7,8]...|          0|    [8.0,9.0]|[0.47058823529411...|       1.0|\n",
      "|(11,[0,3,5,7,8],[...|          1|  [43.0,16.0]|[0.72881355932203...|       0.0|\n",
      "|(11,[0,3,5,7,8],[...|          0|  [43.0,16.0]|[0.72881355932203...|       0.0|\n",
      "+--------------------+-----------+-------------+--------------------+----------+\n",
      "only showing top 10 rows\n",
      "\n"
     ]
    }
   ],
   "source": [
    "predictions = dtModel.transform(test_df)\n",
    "predictions.select('features', 'Loan_Status', 'rawPrediction', 'probability', 'prediction').show(10)"
   ]
  },
  {
   "cell_type": "code",
   "execution_count": 245,
   "metadata": {},
   "outputs": [
    {
     "name": "stdout",
     "output_type": "stream",
     "text": [
      "Test Area Under ROC 0.7042751526840244\n"
     ]
    }
   ],
   "source": [
    "from pyspark.ml.evaluation import BinaryClassificationEvaluator\n",
    "evaluator = BinaryClassificationEvaluator(labelCol=\"Loan_Status\")\n",
    "print('Test Area Under ROC', evaluator.evaluate(predictions))"
   ]
  },
  {
   "cell_type": "code",
   "execution_count": 246,
   "metadata": {},
   "outputs": [
    {
     "name": "stderr",
     "output_type": "stream",
     "text": [
      "C:\\spark-3.2.1-bin-hadoop3.2\\python\\pyspark\\sql\\pandas\\conversion.py:87: UserWarning: toPandas attempted Arrow optimization because 'spark.sql.execution.arrow.pyspark.enabled' is set to true; however, failed by the reason below:\n",
      "  Unsupported type in conversion to Arrow: VectorUDT\n",
      "Attempting non-optimization as 'spark.sql.execution.arrow.pyspark.fallback.enabled' is set to true.\n",
      "  warnings.warn(msg)\n"
     ]
    }
   ],
   "source": [
    "dtpredictB = predictions[predictions.prediction==0].toPandas()\n",
    "dtpredictM = predictions[predictions.prediction==1].toPandas()"
   ]
  },
  {
   "cell_type": "code",
   "execution_count": 247,
   "metadata": {},
   "outputs": [
    {
     "name": "stdout",
     "output_type": "stream",
     "text": [
      "-- Decision Tree Classifier --\n",
      "------------------------------------------------------------------------\n",
      "Classification Report\n",
      "               precision    recall  f1-score   support\n",
      "\n",
      "           0       0.62      0.39      0.48        51\n",
      "           1       0.78      0.90      0.84       122\n",
      "\n",
      "    accuracy                           0.75       173\n",
      "   macro avg       0.70      0.65      0.66       173\n",
      "weighted avg       0.73      0.75      0.73       173\n",
      "\n",
      "------------------------------------------------------------------------\n",
      "Confusion matrix\n",
      " [[ 20  31]\n",
      " [ 12 110]] \n",
      "\n",
      "\n"
     ]
    }
   ],
   "source": [
    "result = pd.concat([dtpredictB,dtpredictM])\n",
    "true_labels=(test_df.select(\"Loan_Status\")).toPandas()\n",
    "predicted_labels=predictions.select(\"prediction\").toPandas()\n",
    "\n",
    "print(\"-- Decision Tree Classifier --\")\n",
    "print(\"------------------------------------------------------------------------\")\n",
    "print(\"Classification Report\\n\",classification_report(true_labels, predicted_labels))\n",
    "print(\"------------------------------------------------------------------------\")\n",
    "print(\"Confusion matrix\\n\",confusion_matrix(true_labels,predicted_labels),\"\\n\\n\")\n",
    "DT=confusion_matrix(true_labels,predicted_labels)"
   ]
  },
  {
   "cell_type": "code",
   "execution_count": 248,
   "metadata": {},
   "outputs": [
    {
     "name": "stdout",
     "output_type": "stream",
     "text": [
      "Model accuracy: 75.145%\n"
     ]
    }
   ],
   "source": [
    "x = accuracy_m(model = dtModel)\n",
    "print(x)"
   ]
  },
  {
   "cell_type": "markdown",
   "metadata": {},
   "source": [
    "Random Forest Classifier"
   ]
  },
  {
   "cell_type": "code",
   "execution_count": 250,
   "metadata": {},
   "outputs": [],
   "source": [
    "from pyspark.ml.classification import RandomForestClassifier\n",
    "rf = RandomForestClassifier(featuresCol = 'features', labelCol = 'Loan_Status')\n",
    "rfModel = rf.fit(train_df)"
   ]
  },
  {
   "cell_type": "code",
   "execution_count": 251,
   "metadata": {},
   "outputs": [
    {
     "name": "stdout",
     "output_type": "stream",
     "text": [
      "+--------------------+-----------+--------------------+--------------------+----------+\n",
      "|            features|Loan_Status|       rawPrediction|         probability|prediction|\n",
      "+--------------------+-----------+--------------------+--------------------+----------+\n",
      "|(11,[0,1,2,5,7,8]...|          0|[7.99812075109823...|[0.39990603755491...|       1.0|\n",
      "|(11,[0,1,5,6,7,8]...|          0|[11.4747434112265...|[0.57373717056132...|       0.0|\n",
      "|(11,[0,1,5,7,8],[...|          1|[10.9206990346727...|[0.54603495173363...|       0.0|\n",
      "|(11,[0,1,5,7,8,9]...|          0|[4.62925274072993...|[0.23146263703649...|       1.0|\n",
      "|(11,[0,1,5,7,8,10...|          0|[12.2962683928507...|[0.61481341964253...|       0.0|\n",
      "|(11,[0,2,3,5,7,8]...|          0|[13.6933123009964...|[0.68466561504982...|       0.0|\n",
      "|(11,[0,2,3,5,7,8]...|          0|[9.41512602533888...|[0.47075630126694...|       1.0|\n",
      "|(11,[0,3,5,6,7,8]...|          0|[11.5823646088145...|[0.57911823044072...|       0.0|\n",
      "|(11,[0,3,5,7,8],[...|          1|[12.0384538117428...|[0.60192269058714...|       0.0|\n",
      "|(11,[0,3,5,7,8],[...|          0|[12.8384538117428...|[0.64192269058714...|       0.0|\n",
      "|(11,[0,3,5,7,8],[...|          0|[14.6665755752640...|[0.73332877876320...|       0.0|\n",
      "|(11,[0,3,5,7,8,9]...|          1|[4.72965322489199...|[0.23648266124459...|       1.0|\n",
      "|(11,[0,3,5,7,8,9]...|          0|[6.34905161306509...|[0.31745258065325...|       1.0|\n",
      "|(11,[0,3,5,7,8,9]...|          1|[5.74311078182781...|[0.28715553909139...|       1.0|\n",
      "|(11,[0,3,5,7,8,9]...|          1|[3.64701339114763...|[0.18235066955738...|       1.0|\n",
      "|(11,[0,3,5,7,8,9]...|          0|[4.17600584438202...|[0.20880029221910...|       1.0|\n",
      "|(11,[0,5,6,7,8],[...|          1|[10.7038519476405...|[0.53519259738202...|       0.0|\n",
      "|(11,[0,5,7,8,9],[...|          1|[6.06271909042814...|[0.30313595452140...|       1.0|\n",
      "|(11,[0,5,7,8,9],[...|          0|[3.98716353391318...|[0.19935817669565...|       1.0|\n",
      "|(11,[1,2,5,6,7,8]...|          0|[9.97490917638773...|[0.49874545881938...|       1.0|\n",
      "+--------------------+-----------+--------------------+--------------------+----------+\n",
      "only showing top 20 rows\n",
      "\n"
     ]
    }
   ],
   "source": [
    "predictions = rfModel.transform(test_df)\n",
    "predictions.select('features', 'Loan_Status', 'rawPrediction', 'probability', 'prediction').show()"
   ]
  },
  {
   "cell_type": "code",
   "execution_count": 252,
   "metadata": {},
   "outputs": [
    {
     "name": "stdout",
     "output_type": "stream",
     "text": [
      "Test Area Under ROC 0.6877209900353581\n"
     ]
    }
   ],
   "source": [
    "evaluator = BinaryClassificationEvaluator(labelCol=\"Loan_Status\")\n",
    "print('Test Area Under ROC', evaluator.evaluate(predictions))"
   ]
  },
  {
   "cell_type": "code",
   "execution_count": 253,
   "metadata": {},
   "outputs": [
    {
     "name": "stderr",
     "output_type": "stream",
     "text": [
      "C:\\spark-3.2.1-bin-hadoop3.2\\python\\pyspark\\sql\\pandas\\conversion.py:87: UserWarning: toPandas attempted Arrow optimization because 'spark.sql.execution.arrow.pyspark.enabled' is set to true; however, failed by the reason below:\n",
      "  Unsupported type in conversion to Arrow: VectorUDT\n",
      "Attempting non-optimization as 'spark.sql.execution.arrow.pyspark.fallback.enabled' is set to true.\n",
      "  warnings.warn(msg)\n"
     ]
    }
   ],
   "source": [
    "rfpredictB = predictions[predictions.prediction==0].toPandas()\n",
    "rfpredictM = predictions[predictions.prediction==1].toPandas()"
   ]
  },
  {
   "cell_type": "code",
   "execution_count": 254,
   "metadata": {},
   "outputs": [
    {
     "name": "stdout",
     "output_type": "stream",
     "text": [
      "-- Random Forest Classifier --\n",
      "------------------------------------------------------------------------\n",
      "Classification Report\n",
      "               precision    recall  f1-score   support\n",
      "\n",
      "           0       0.57      0.41      0.48        51\n",
      "           1       0.78      0.87      0.82       122\n",
      "\n",
      "    accuracy                           0.73       173\n",
      "   macro avg       0.67      0.64      0.65       173\n",
      "weighted avg       0.72      0.73      0.72       173\n",
      "\n",
      "------------------------------------------------------------------------\n",
      "Confusion matrix\n",
      " [[ 21  30]\n",
      " [ 16 106]] \n",
      "\n",
      "\n"
     ]
    }
   ],
   "source": [
    "result = pd.concat([rfpredictB,rfpredictM])\n",
    "true_labels=(test_df.select(\"Loan_Status\")).toPandas()\n",
    "predicted_labels=predictions.select(\"prediction\").toPandas()\n",
    "\n",
    "print(\"-- Random Forest Classifier --\")\n",
    "print(\"------------------------------------------------------------------------\")\n",
    "print(\"Classification Report\\n\",classification_report(true_labels, predicted_labels))\n",
    "print(\"------------------------------------------------------------------------\")\n",
    "print(\"Confusion matrix\\n\",confusion_matrix(true_labels,predicted_labels),\"\\n\\n\")\n",
    "DT=confusion_matrix(true_labels,predicted_labels)"
   ]
  },
  {
   "cell_type": "code",
   "execution_count": 255,
   "metadata": {},
   "outputs": [
    {
     "name": "stdout",
     "output_type": "stream",
     "text": [
      "Model accuracy: 73.410%\n"
     ]
    }
   ],
   "source": [
    "x = accuracy_m(model = rfModel)\n",
    "print(x)"
   ]
  },
  {
   "cell_type": "markdown",
   "metadata": {},
   "source": [
    "Multilayered Perceptron"
   ]
  },
  {
   "cell_type": "code",
   "execution_count": 273,
   "metadata": {},
   "outputs": [],
   "source": [
    "from pyspark.ml.classification import MultilayerPerceptronClassifier\n",
    "layers = [11, 256,128,64, 32,16,8,2]\n",
    "trainer = MultilayerPerceptronClassifier(labelCol=\"Loan_Status\",maxIter=100, layers=layers, blockSize=128, seed=1234)\n",
    "mpModel = trainer.fit(train_df)\n"
   ]
  },
  {
   "cell_type": "code",
   "execution_count": 274,
   "metadata": {},
   "outputs": [
    {
     "name": "stdout",
     "output_type": "stream",
     "text": [
      "+--------------------+-----------+--------------------+--------------------+----------+\n",
      "|            features|Loan_Status|       rawPrediction|         probability|prediction|\n",
      "+--------------------+-----------+--------------------+--------------------+----------+\n",
      "|(11,[0,1,2,5,7,8]...|          0|[-1.3691425464034...|[0.28257610633905...|       1.0|\n",
      "|(11,[0,1,5,6,7,8]...|          0|[-1.1758537140704...|[0.37817317999028...|       1.0|\n",
      "|(11,[0,1,5,7,8],[...|          1|[-1.3013706645109...|[0.31452302366872...|       1.0|\n",
      "|(11,[0,1,5,7,8,9]...|          0|[-1.3691386446944...|[0.28257788917434...|       1.0|\n",
      "|(11,[0,1,5,7,8,10...|          0|[-1.3691505916741...|[0.28257242989593...|       1.0|\n",
      "|(11,[0,2,3,5,7,8]...|          0|[-1.4096673091973...|[0.26442931303974...|       1.0|\n",
      "|(11,[0,2,3,5,7,8]...|          0|[-1.1674043701555...|[0.38281812482790...|       1.0|\n",
      "|(11,[0,3,5,6,7,8]...|          0|[-1.1250706571716...|[0.40539541056792...|       1.0|\n",
      "|(11,[0,3,5,7,8],[...|          1|[-1.3691395713810...|[0.28257746532850...|       1.0|\n",
      "|(11,[0,3,5,7,8],[...|          0|[-1.3691490204515...|[0.28257314904823...|       1.0|\n",
      "|(11,[0,3,5,7,8],[...|          0|[-1.4096673091973...|[0.26442931303974...|       1.0|\n",
      "|(11,[0,3,5,7,8,9]...|          1|[-1.1575565527399...|[0.38806017249600...|       1.0|\n",
      "|(11,[0,3,5,7,8,9]...|          0|[-1.1638484736743...|[0.38463240494990...|       1.0|\n",
      "|(11,[0,3,5,7,8,9]...|          1|[-1.1575565527399...|[0.38806017249600...|       1.0|\n",
      "|(11,[0,3,5,7,8,9]...|          1|[-1.3683835421834...|[0.28292294001853...|       1.0|\n",
      "|(11,[0,3,5,7,8,9]...|          0|[-1.4096673091973...|[0.26442931303974...|       1.0|\n",
      "|(11,[0,5,6,7,8],[...|          1|[-1.5096140535630...|[0.22279408798562...|       1.0|\n",
      "|(11,[0,5,7,8,9],[...|          1|[-1.4096672518465...|[0.26442933820633...|       1.0|\n",
      "|(11,[0,5,7,8,9],[...|          0|[-1.3691491764294...|[0.28257307765602...|       1.0|\n",
      "|(11,[1,2,5,6,7,8]...|          0|[-1.3788657275071...|[0.27797947784869...|       1.0|\n",
      "+--------------------+-----------+--------------------+--------------------+----------+\n",
      "only showing top 20 rows\n",
      "\n"
     ]
    }
   ],
   "source": [
    "predictions = mpModel.transform(test_df)\n",
    "predictions.select('features', 'Loan_Status', 'rawPrediction', 'probability', 'prediction').show()"
   ]
  },
  {
   "cell_type": "code",
   "execution_count": 275,
   "metadata": {},
   "outputs": [
    {
     "name": "stdout",
     "output_type": "stream",
     "text": [
      "Test Area Under ROC 0.6055930568948892\n"
     ]
    }
   ],
   "source": [
    "evaluator = BinaryClassificationEvaluator(labelCol=\"Loan_Status\")\n",
    "print('Test Area Under ROC', evaluator.evaluate(predictions))"
   ]
  },
  {
   "cell_type": "code",
   "execution_count": 276,
   "metadata": {},
   "outputs": [
    {
     "name": "stderr",
     "output_type": "stream",
     "text": [
      "C:\\spark-3.2.1-bin-hadoop3.2\\python\\pyspark\\sql\\pandas\\conversion.py:87: UserWarning: toPandas attempted Arrow optimization because 'spark.sql.execution.arrow.pyspark.enabled' is set to true; however, failed by the reason below:\n",
      "  Unsupported type in conversion to Arrow: VectorUDT\n",
      "Attempting non-optimization as 'spark.sql.execution.arrow.pyspark.fallback.enabled' is set to true.\n",
      "  warnings.warn(msg)\n"
     ]
    }
   ],
   "source": [
    "mppredictB = predictions[predictions.prediction==0].toPandas()\n",
    "mppredictM = predictions[predictions.prediction==1].toPandas()"
   ]
  },
  {
   "cell_type": "code",
   "execution_count": 277,
   "metadata": {},
   "outputs": [
    {
     "name": "stdout",
     "output_type": "stream",
     "text": [
      "-- Multilayered Perceptron --\n",
      "------------------------------------------------------------------------\n",
      "Classification Report\n",
      "               precision    recall  f1-score   support\n",
      "\n",
      "           0       0.25      0.02      0.04        51\n",
      "           1       0.70      0.98      0.82       122\n",
      "\n",
      "    accuracy                           0.69       173\n",
      "   macro avg       0.48      0.50      0.43       173\n",
      "weighted avg       0.57      0.69      0.59       173\n",
      "\n",
      "------------------------------------------------------------------------\n",
      "Confusion matrix\n",
      " [[  1  50]\n",
      " [  3 119]] \n",
      "\n",
      "\n"
     ]
    }
   ],
   "source": [
    "result = pd.concat([mppredictB,mppredictM])\n",
    "true_labels=(test_df.select(\"Loan_Status\")).toPandas()\n",
    "predicted_labels=predictions.select(\"prediction\").toPandas()\n",
    "\n",
    "print(\"-- Multilayered Perceptron --\")\n",
    "print(\"------------------------------------------------------------------------\")\n",
    "print(\"Classification Report\\n\",classification_report(true_labels, predicted_labels))\n",
    "print(\"------------------------------------------------------------------------\")\n",
    "print(\"Confusion matrix\\n\",confusion_matrix(true_labels,predicted_labels),\"\\n\\n\")\n",
    "DT=confusion_matrix(true_labels,predicted_labels)"
   ]
  },
  {
   "cell_type": "code",
   "execution_count": 278,
   "metadata": {},
   "outputs": [
    {
     "name": "stdout",
     "output_type": "stream",
     "text": [
      "Model accuracy: 69.364%\n"
     ]
    }
   ],
   "source": [
    "x = accuracy_m(model = mpModel)\n",
    "print(x)"
   ]
  },
  {
   "cell_type": "code",
   "execution_count": null,
   "metadata": {},
   "outputs": [],
   "source": [
    "spark.stop()"
   ]
  }
 ],
 "metadata": {
  "interpreter": {
   "hash": "d8af88ce167851b8432cc116475a56a8e97cb938dd5125e0f7f0a0d3647a2097"
  },
  "kernelspec": {
   "display_name": "Python 3 (ipykernel)",
   "language": "python",
   "name": "python3"
  },
  "language_info": {
   "codemirror_mode": {
    "name": "ipython",
    "version": 3
   },
   "file_extension": ".py",
   "mimetype": "text/x-python",
   "name": "python",
   "nbconvert_exporter": "python",
   "pygments_lexer": "ipython3",
   "version": "3.7.13"
  }
 },
 "nbformat": 4,
 "nbformat_minor": 2
}
